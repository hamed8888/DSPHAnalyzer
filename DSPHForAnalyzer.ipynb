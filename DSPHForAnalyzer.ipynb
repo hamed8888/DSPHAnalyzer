{
 "cells": [
  {
   "cell_type": "code",
   "execution_count": 53,
   "metadata": {},
   "outputs": [
    {
     "name": "stdout",
     "output_type": "stream",
     "text": [
      "  dateTime  level  minutes\n",
      "0               0       15\n",
      "1               2       31\n",
      "2               3       12\n",
      "3               1       17\n",
      "4               2       35\n",
      "5               1       14\n",
      "6               2       26\n",
      "7               3       22\n",
      "8               1        8\n"
     ]
    }
   ],
   "source": [
    "import json\n",
    "import pandas as pd  \n",
    "import numpy as np\n",
    "\n",
    "sleepAnalyzerDetail = pd.read_csv(\"raw_bed_sleep-state.csv\")\n",
    "# print(sleepAnalyzerDetail.head(1))\n",
    "v = sleepAnalyzerDetail.iloc[0][\"value\"]\n",
    "v = v.replace('[','').replace(']','')\n",
    "v2 = v.split(',')\n",
    "v3  = [int(numeric_string) for numeric_string in v2]\n",
    "df = pd.DataFrame()\n",
    "df[\"dateTime\"] = []\n",
    "df[\"level\"] = []\n",
    "df[\"minutes\"] = []\n",
    "stateCounter = 0\n",
    "stateNumber = -1\n",
    "# print(\"v3 is {}\".format(v3))\n",
    "for counter,number in enumerate(v3):\n",
    "    if number != stateNumber:\n",
    "        if stateNumber != -1:\n",
    "            list = ['',stateNumber, stateCounter]\n",
    "            # print(list)\n",
    "            df.loc[len(df)] = list\n",
    "        stateNumber = number\n",
    "        stateCounter = 1\n",
    "    else:\n",
    "        stateCounter +=1\n",
    "    if counter == len(v3) -1:\n",
    "        list = ['', stateNumber, stateCounter]\n",
    "        # print(list)\n",
    "        df.loc[len(df)] = list\n",
    "print(df)\n",
    "# print(v)\n",
    "\n",
    "\n",
    "\n"
   ]
  }
 ],
 "metadata": {
  "kernelspec": {
   "display_name": "Python 3 (ipykernel)",
   "language": "python",
   "name": "python3"
  },
  "language_info": {
   "codemirror_mode": {
    "name": "ipython",
    "version": 3
   },
   "file_extension": ".py",
   "mimetype": "text/x-python",
   "name": "python",
   "nbconvert_exporter": "python",
   "pygments_lexer": "ipython3",
   "version": "3.9.13"
  },
  "vscode": {
   "interpreter": {
    "hash": "4f9a25c63db83cc4ed034882c5433d208489be4d91ed1a16d308e5a4094e269c"
   }
  }
 },
 "nbformat": 4,
 "nbformat_minor": 2
}
